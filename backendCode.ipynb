########################################################
import numpy as np
import cv2
import os
from sklearn.model_selection import train_test_split
import keras
from keras.models import Sequential
from keras.layers import Conv2D, MaxPooling2D, Flatten, Dense, Dropout
from sklearn.svm import SVC
import xgboost as xgb
from sklearn.ensemble import AdaBoostClassifier
from sklearn.tree import DecisionTreeClassifier
def load_data(path, label_dict):
    data = []
    label = []
    for cat, label_value in label_dict.items():
        pic_list = os.path.join(path, cat)
        for img in os.listdir(pic_list):
            image_path = os.path.join(pic_list, img)
            image = cv2.imread(image_path)
            image = cv2.cvtColor(image, cv2.COLOR_BGR2RGB)
            image = cv2.resize(image, (224, 224))
            data.append(image)
            label.append(label_value)
    return np.array(data), np.array(label)
label_dict = {
    'ECG Images of Myocardial Infarction Patients (240x12=2880)': 0,
    'ECG Images of Patient that have History of MI (172x12=2064)': 1,
    'ECG Images of Patient that have abnormal heartbeat (233x12=2796)': 2,
    'Normal Person ECG Images (284x12=3408)': 3
}
path='C:\\Users\\PRABHUGURAV\\OneDrive\\Desktop\\Heart Disease CNN\\archive (1)\\train'
data,label = load_data(path,label_dict)
data=data.astype('float32')/255.0
num_classes=len(label_dict)
label=keras.utils.to_categorical(label,num_classes)
train_data, test_data, train_label, test_label = train_test_split(data, label, test_size=0.2, random_state=42)
train_data_flatten = train_data.reshape(train_data.shape[0], -1)
test_data_flatten = test_data.reshape(test_data.shape[0], -1)
svm_model = SVC(kernel='linear', C=1.0, random_state=42)
svm_model.fit(train_data_flatten, np.argmax(train_label, axis=1))
svm_accuracy = svm_model.score(test_data_flatten, np.argmax(test_label, axis=1))
print("SVM Accuracy:", svm_accuracy)
xgb_model = xgb.XGBClassifier(objective='multi:softmax', num_class=num_classes, random_state=42)
xgb_model.fit(train_data_flatten, np.argmax(train_label, axis=1))
xgb_accuracy = xgb_model.score(test_data_flatten, np.argmax(test_label, axis=1))
print("XGBoost Accuracy:", xgb_accuracy)
##########################################################Run after
import numpy as np
import cv2
import os
from sklearn.model_selection import train_test_split
import keras
from keras.models import Sequential
from keras.layers import Conv2D, MaxPooling2D, Flatten, Dense, Dropout
def load_data(path, label_dict):
    data = []
    label = []
    for cat, label_value in label_dict.items():
        pic_list = os.path.join(path, cat)
        for img in os.listdir(pic_list):
            image_path = os.path.join(pic_list, img)
            image = cv2.imread(image_path)
            image = cv2.cvtColor(image, cv2.COLOR_BGR2RGB)
            image = cv2.resize(image, (224, 224))
            data.append(image)
            label.append(label_value)
    return np.array(data), np.array(label)

label_dict = {
    'ECG Images of Myocardial Infarction Patients (240x12=2880)': 0,
    'ECG Images of Patient that have History of MI (172x12=2064)': 1,
    'ECG Images of Patient that have abnormal heartbeat (233x12=2796)': 2,
    'Normal Person ECG Images (284x12=3408)': 3
}
path = 'C:\\Users\\PRABHUGURAV\\OneDrive\\Desktop\\Heart Disease CNN\\archive (1)\\train'
data, label = load_data(path, label_dict)
data = data.astype('float32') / 255.0
num_classes = len(label_dict)
label = keras.utils.to_categorical(label, num_classes)
train_data, test_data, train_label, test_label = train_test_split(data, label, test_size=0.2, random_state=42)
model = Sequential()
model.add(Conv2D(32, (3, 3), activation='relu', input_shape=(224, 224, 3)))
model.add(MaxPooling2D((2, 2)))
model.add(Conv2D(32, (3, 3), activation='relu'))
model.add(MaxPooling2D((2, 2)))
model.add(Conv2D(64, (3, 3), activation='relu'))
model.add(MaxPooling2D((2, 2)))
model.add(Conv2D(64, (3, 3), activation='relu'))
model.add(MaxPooling2D((2, 2)))
model.add(Conv2D(128, (3, 3), activation='relu'))
model.add(MaxPooling2D((2, 2)))
model.add(Conv2D(128, (3, 3), activation='relu'))
model.add(MaxPooling2D((2, 2)))
model.add(Flatten())
model.add(Dense(256, activation='relu'))
model.add(Dropout(0.5))
model.add(Dense(num_classes, activation='sigmoid'))
model.compile(optimizer='adam', loss='categorical_crossentropy', metrics=['accuracy'])
history = model.fit(train_data, train_label, epochs=20, batch_size=32, validation_split=0.2)
test_path = 'C:\\Users\\PRABHUGURAV\\OneDrive\\Desktop\\Heart Disease CNN\\archive (1)\\train'

# Load test data
test_data, test_label = load_data(test_path, label_dict)
test_data = test_data.astype('float32') / 255.0
test_label = keras.utils.to_categorical(test_label, num_classes)

# Evaluate the model on test data
test_loss, test_accuracy = model.evaluate(test_data, test_label)
print("Test Loss:", test_loss)
print("Test Accuracy:", test_accuracy)
############################################################################
import matplotlib.pyplot as plt
plt.plot(history.history['accuracy'])
plt.plot(history.history['val_accuracy'])
plt.title('Model accuracy')
plt.ylabel('Accuracy')
plt.xlabel('Epoch')
plt.legend(['Train', 'Validation'], loc='upper left')
plt.show()
###########################################################################
# Test accuracies of all four models
test_accuracies = [test_accuracy, svm_accuracy, xgb_accuracy]
model_names = ['CNN', 'SVM', 'XGBoost']

# Plotting the pie chart
plt.figure(figsize=(8, 8))
plt.pie(test_accuracies, labels=model_names, autopct='%1.1f%%', startangle=140)
plt.title('Test Accuracies of Different Models')
plt.axis('equal')  # Equal aspect ratio ensures that pie is drawn as a circle.
plt.show()
###############################################################################
# Test loss and accuracy of all four models
test_metrics = [(1 - test_accuracy,test_accuracy ), (1 - svm_accuracy, svm_accuracy),(1 - xgb_accuracy, xgb_accuracy)]
model_names = ['CNN', 'SVM', 'XGBoost']

# Plotting the pie chart
# Plotting the pie charts side by side
fig, axes = plt.subplots(1, 4, figsize=(20, 5))
for ax, (loss, accuracy), model_name in zip(axes, test_metrics, model_names):
    ax.pie([loss, accuracy], labels=['Loss', 'Accuracy'], autopct='%1.1f%%', startangle=140)
    ax.set_title(f'{model_name} Metrics')
    ax.axis('equal')  # Equal aspect ratio ensures that pie is drawn as a circle.

plt.tight_layout()
plt.show()
################################################################################
# Save the trained model
model.save('heart_disease_cnn_model.keras')
#################################################################################
import numpy as np
import cv2
from keras.models import load_model

# Load the trained model
model = load_model('heart_disease_cnn_model.h5')

# Define the label dictionary
label_dict = {
    'Myocardial Infarction Patient': 0,
    'History of MI': 1,
    'Abnormal heartbeat': 2,
    'Normal Person': 3
}

# Create a reverse mapping from index to label
index_to_label = {v: k for k, v in label_dict.items()}

def preprocess_image(image_path):
    image = cv2.imread(image_path)
    image = cv2.cvtColor(image, cv2.COLOR_BGR2RGB)
    image = cv2.resize(image, (224, 224))
    image = image.astype('float32') / 255.0
    image = np.expand_dims(image, axis=0)  # Expand dims to match the input shape of the model
    return image

# Example image path
image_path = 'C:\\Users\\PRABHUGURAV\\OneDrive\\Desktop\\Heart Disease CNN\\archive (1)\\train\\ECG Images of Myocardial Infarction Patients (240x12=2880)\\MI(1).jpg'

# Preprocess the image
preprocessed_image = preprocess_image(image_path)

# Predict the class
predictions = model.predict(preprocessed_image)
predicted_class = np.argmax(predictions, axis=1)[0]

# Map the predicted class index to the corresponding label
predicted_label = index_to_label[predicted_class]

print("Predicted Class Index:", predicted_class)
print("Predicted Label:", predicted_label)
